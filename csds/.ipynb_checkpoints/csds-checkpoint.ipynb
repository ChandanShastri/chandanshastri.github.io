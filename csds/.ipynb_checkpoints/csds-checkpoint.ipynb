{
 "cells": [
  {
   "cell_type": "markdown",
   "metadata": {},
   "source": [
    "## Weather Data Analysis\n",
    "\n",
    "#### <a href=\"https://chandanshastri.github.io\"> &copy; Chandan Shastri </a>"
   ]
  },
  {
   "cell_type": "code",
   "execution_count": 1,
   "metadata": {},
   "outputs": [],
   "source": [
    "import tensorflow as tf\n",
    "\n",
    "from pyspark.sql import SparkSession\n",
    "from time import time"
   ]
  },
  {
   "cell_type": "markdown",
   "metadata": {},
   "source": [
    "### Creating a Spark Session :"
   ]
  },
  {
   "cell_type": "code",
   "execution_count": 2,
   "metadata": {},
   "outputs": [],
   "source": [
    "spark = SparkSession.builder.master('local').appName(\"csds_test\").enableHiveSupport().getOrCreate()"
   ]
  },
  {
   "cell_type": "code",
   "execution_count": 3,
   "metadata": {},
   "outputs": [
    {
     "data": {
      "text/html": [
       "\n",
       "            <div>\n",
       "                <p><b>SparkSession - hive</b></p>\n",
       "                \n",
       "        <div>\n",
       "            <p><b>SparkContext</b></p>\n",
       "\n",
       "            <p><a href=\"http://host.docker.internal:4041\">Spark UI</a></p>\n",
       "\n",
       "            <dl>\n",
       "              <dt>Version</dt>\n",
       "                <dd><code>v3.0.0-preview2</code></dd>\n",
       "              <dt>Master</dt>\n",
       "                <dd><code>local</code></dd>\n",
       "              <dt>AppName</dt>\n",
       "                <dd><code>csds_test</code></dd>\n",
       "            </dl>\n",
       "        </div>\n",
       "        \n",
       "            </div>\n",
       "        "
      ],
      "text/plain": [
       "<pyspark.sql.session.SparkSession at 0x1e6e8f6bb48>"
      ]
     },
     "execution_count": 3,
     "metadata": {},
     "output_type": "execute_result"
    }
   ],
   "source": [
    "spark"
   ]
  },
  {
   "cell_type": "markdown",
   "metadata": {},
   "source": [
    "### Loading Data to Spark DataFrame from MySQL database :"
   ]
  },
  {
   "cell_type": "code",
   "execution_count": 4,
   "metadata": {},
   "outputs": [],
   "source": [
    "isro = spark.read.jdbc(\"jdbc:mysql://localhost:3306\",\"rrsc_aws.aws_log\",properties={'user':'chandanshastri','password':'superman'})"
   ]
  },
  {
   "cell_type": "code",
   "execution_count": 5,
   "metadata": {},
   "outputs": [
    {
     "name": "stdout",
     "output_type": "stream",
     "text": [
      "+-------------------+------+---------+-------+------+-----+-----+-----+-----+-----+--------+-------+----------+-------+--------+\n",
      "|RTIME              |REC_NO|Battery_V|AirTemp|RelHum|WS   |WD   |RAINt|RAINa|VWC  |SoilTemp|SlrAvg |SlrKjTot  |SlrWha |Slr_kJ_a|\n",
      "+-------------------+------+---------+-------+------+-----+-----+-----+-----+-----+--------+-------+----------+-------+--------+\n",
      "|2017-04-04 16:30:00|8     |13.31    |34.14  |29.65 |0.394|157.2|0.000|0.000|35.78|27.86   |121.400|218.480400|524.808|1889.308|\n",
      "|2017-04-04 16:45:00|9     |13.28    |34.02  |31.51 |0.128|292.2|0.000|0.000|35.84|27.92   |99.700 |179.383700|574.636|2068.691|\n",
      "|2017-04-04 17:00:00|10    |13.24    |33.65  |31.36 |0.183|184.9|0.000|0.000|35.84|27.97   |79.200 |142.552400|614.234|2211.243|\n",
      "|2017-04-04 17:15:00|11    |13.23    |33.36  |31.74 |0.108|169.8|0.000|0.000|35.84|28.02   |60.500 |108.905900|644.486|2320.150|\n",
      "|2017-04-04 17:30:00|12    |13.23    |33.30  |31.03 |0.175|210.4|0.000|0.000|35.83|28.06   |48.370 |87.061010 |668.669|2407.209|\n",
      "|2017-04-04 17:45:00|13    |13.20    |32.99  |30.94 |0.279|306.4|0.000|0.000|35.83|28.11   |28.310 |50.952890 |682.823|2458.161|\n",
      "|2017-04-04 18:00:00|14    |13.19    |32.54  |31.94 |0.251|271.6|0.000|0.000|35.83|28.15   |16.150 |29.061720 |690.896|2487.223|\n",
      "|2017-04-04 18:15:00|15    |13.15    |32.26  |32.98 |0.205|219.9|0.000|0.000|35.83|28.19   |3.102  |5.584118  |692.447|2492.809|\n",
      "|2017-04-04 18:30:00|16    |13.15    |31.97  |33.60 |0.014|82.1 |0.000|0.000|35.83|28.23   |0.015  |0.026112  |692.454|2492.835|\n",
      "|2017-04-04 18:45:00|17    |13.14    |31.66  |34.41 |0.307|322.9|0.000|0.000|35.83|28.26   |0.000  |0.000000  |692.454|2492.835|\n",
      "+-------------------+------+---------+-------+------+-----+-----+-----+-----+-----+--------+-------+----------+-------+--------+\n",
      "only showing top 10 rows\n",
      "\n"
     ]
    }
   ],
   "source": [
    "isro.show(10,truncate=False)"
   ]
  },
  {
   "cell_type": "markdown",
   "metadata": {},
   "source": [
    "### Total Number of rows in our data "
   ]
  },
  {
   "cell_type": "code",
   "execution_count": 6,
   "metadata": {},
   "outputs": [
    {
     "data": {
      "text/plain": [
       "29825"
      ]
     },
     "execution_count": 6,
     "metadata": {},
     "output_type": "execute_result"
    }
   ],
   "source": [
    "isro.count()"
   ]
  },
  {
   "cell_type": "code",
   "execution_count": 7,
   "metadata": {},
   "outputs": [
    {
     "name": "stdout",
     "output_type": "stream",
     "text": [
      "root\n",
      " |-- RTIME: timestamp (nullable = true)\n",
      " |-- REC_NO: integer (nullable = true)\n",
      " |-- Battery_V: decimal(10,2) (nullable = true)\n",
      " |-- AirTemp: decimal(10,2) (nullable = true)\n",
      " |-- RelHum: decimal(10,2) (nullable = true)\n",
      " |-- WS: decimal(10,3) (nullable = true)\n",
      " |-- WD: decimal(10,1) (nullable = true)\n",
      " |-- RAINt: decimal(10,3) (nullable = true)\n",
      " |-- RAINa: decimal(10,3) (nullable = true)\n",
      " |-- VWC: decimal(10,2) (nullable = true)\n",
      " |-- SoilTemp: decimal(10,2) (nullable = true)\n",
      " |-- SlrAvg: decimal(10,3) (nullable = true)\n",
      " |-- SlrKjTot: decimal(10,6) (nullable = true)\n",
      " |-- SlrWha: decimal(10,3) (nullable = true)\n",
      " |-- Slr_kJ_a: decimal(10,3) (nullable = true)\n",
      "\n"
     ]
    }
   ],
   "source": [
    "isro.printSchema()"
   ]
  },
  {
   "cell_type": "markdown",
   "metadata": {},
   "source": [
    "### Selecting only the days on which there was Rainfall :"
   ]
  },
  {
   "cell_type": "code",
   "execution_count": 8,
   "metadata": {},
   "outputs": [],
   "source": [
    "test = isro.filter((isro.RAINt>1)).select('RTIME','AirTemp','RelHum','RAINt')"
   ]
  },
  {
   "cell_type": "code",
   "execution_count": 9,
   "metadata": {},
   "outputs": [
    {
     "name": "stdout",
     "output_type": "stream",
     "text": [
      "+-------------------+-------+------+-----+\n",
      "|RTIME              |AirTemp|RelHum|RAINt|\n",
      "+-------------------+-------+------+-----+\n",
      "|2017-04-05 21:15:00|21.95  |81.30 |8.890|\n",
      "|2017-04-06 20:45:00|23.38  |81.20 |1.016|\n",
      "|2017-04-06 21:15:00|24.82  |78.76 |1.524|\n",
      "|2017-04-06 21:30:00|22.39  |91.50 |1.270|\n",
      "|2017-04-17 16:15:00|24.06  |66.82 |7.112|\n",
      "|2017-05-09 19:00:00|25.42  |73.37 |1.270|\n",
      "|2017-05-09 19:15:00|22.69  |90.90 |1.778|\n",
      "|2017-05-10 19:45:00|22.85  |85.80 |1.524|\n",
      "|2017-05-11 14:30:00|25.95  |80.70 |2.540|\n",
      "|2017-05-14 15:45:00|29.13  |73.50 |1.016|\n",
      "+-------------------+-------+------+-----+\n",
      "only showing top 10 rows\n",
      "\n"
     ]
    }
   ],
   "source": [
    "test.show(10,truncate=False)"
   ]
  },
  {
   "cell_type": "markdown",
   "metadata": {},
   "source": [
    "### Average temperature for the whole period :"
   ]
  },
  {
   "cell_type": "code",
   "execution_count": 10,
   "metadata": {},
   "outputs": [
    {
     "name": "stdout",
     "output_type": "stream",
     "text": [
      "+------------+\n",
      "|avg(AirTemp)|\n",
      "+------------+\n",
      "|   23.502284|\n",
      "+------------+\n",
      "\n",
      "Total time taken : 0.4559957981109619 ms\n"
     ]
    }
   ],
   "source": [
    "t=time()\n",
    "isro.agg({\"AirTemp\":\"avg\"}).show()\n",
    "print(\"Total time taken : \" + str(time()-t) + \" ms\")"
   ]
  },
  {
   "cell_type": "markdown",
   "metadata": {},
   "source": [
    "### Plotting a Time vs Temp Graph for Rainy days :"
   ]
  },
  {
   "cell_type": "code",
   "execution_count": 11,
   "metadata": {},
   "outputs": [],
   "source": [
    "import matplotlib.pyplot as plt"
   ]
  },
  {
   "cell_type": "code",
   "execution_count": 12,
   "metadata": {},
   "outputs": [],
   "source": [
    "rtime = test.select('RTIME').collect()"
   ]
  },
  {
   "cell_type": "code",
   "execution_count": 13,
   "metadata": {},
   "outputs": [],
   "source": [
    "temp = test.select('AirTemp').collect()"
   ]
  },
  {
   "cell_type": "code",
   "execution_count": 14,
   "metadata": {},
   "outputs": [
    {
     "data": {
      "text/plain": [
       "[<matplotlib.lines.Line2D at 0x1e6df6acec8>]"
      ]
     },
     "execution_count": 14,
     "metadata": {},
     "output_type": "execute_result"
    },
    {
     "data": {
      "image/png": "[encoded data removed]",
      "image/svg+xml": [
       "<?xml version=\"1.0\" encoding=\"utf-8\" standalone=\"no\"?>\r\n",
       "<!DOCTYPE svg PUBLIC \"-//W3C//DTD SVG 1.1//EN\"\r\n",
       "  \"http://www.w3.org/Graphics/SVG/1.1/DTD/svg11.dtd\">\r\n",
       "<!-- Created with matplotlib (https://matplotlib.org/) -->\r\n",
       "<svg height=\"248.518125pt\" version=\"1.1\" viewBox=\"0 0 368.925 248.518125\" width=\"368.925pt\" xmlns=\"http://www.w3.org/2000/svg\" xmlns:xlink=\"http://www.w3.org/1999/xlink\">\r\n",
       " <defs>\r\n",
       "  <style type=\"text/css\">\r\n",
       "*{stroke-linecap:butt;stroke-linejoin:round;}\r\n",
       "  </style>\r\n",
       " </defs>\r\n",
       " <g id=\"figure_1\">\r\n",
       "  <g id=\"patch_1\">\r\n",
       "   <path d=\"M -0 248.518125 \r\n",
       "L 368.925 248.518125 \r\n",
       "L 368.925 0 \r\n",
       "L -0 0 \r\n",
       "z\r\n",
       "\" style=\"fill:none;\"/>\r\n",
       "  </g>\r\n",
       "  <g id=\"axes_1\">\r\n",
       "   <g id=\"patch_2\">\r\n",
       "    <path d=\"M 26.925 224.64 \r\n",
       "L 361.725 224.64 \r\n",
       "L 361.725 7.2 \r\n",
       "L 26.925 7.2 \r\n",
       "z\r\n",
       "\" style=\"fill:#ffffff;\"/>\r\n",
       "   </g>\r\n",
       "   <g id=\"matplotlib.axis_1\">\r\n",
       "    <g id=\"xtick_1\">\r\n",
       "     <g id=\"line2d_1\">\r\n",
       "      <defs>\r\n",
       "       <path d=\"M 0 0 \r\n",
       "L 0 3.5 \r\n",
       "\" id=\"m9d0146186c\" style=\"stroke:#000000;stroke-width:0.8;\"/>\r\n",
       "      </defs>\r\n",
       "      <g>\r\n",
       "       <use style=\"stroke:#000000;stroke-width:0.8;\" x=\"37.313321\" xlink:href=\"#m9d0146186c\" y=\"224.64\"/>\r\n",
       "      </g>\r\n",
       "     </g>\r\n",
       "     <g id=\"text_1\">\r\n",
       "      <!-- 2017-04 -->\r\n",
       "      <defs>\r\n",
       "       <path d=\"M 19.1875 8.296875 \r\n",
       "L 53.609375 8.296875 \r\n",
       "L 53.609375 0 \r\n",
       "L 7.328125 0 \r\n",
       "L 7.328125 8.296875 \r\n",
       "Q 12.9375 14.109375 22.625 23.890625 \r\n",
       "Q 32.328125 33.6875 34.8125 36.53125 \r\n",
       "Q 39.546875 41.84375 41.421875 45.53125 \r\n",
       "Q 43.3125 49.21875 43.3125 52.78125 \r\n",
       "Q 43.3125 58.59375 39.234375 62.25 \r\n",
       "Q 35.15625 65.921875 28.609375 65.921875 \r\n",
       "Q 23.96875 65.921875 18.8125 64.3125 \r\n",
       "Q 13.671875 62.703125 7.8125 59.421875 \r\n",
       "L 7.8125 69.390625 \r\n",
       "Q 13.765625 71.78125 18.9375 73 \r\n",
       "Q 24.125 74.21875 28.421875 74.21875 \r\n",
       "Q 39.75 74.21875 46.484375 68.546875 \r\n",
       "Q 53.21875 62.890625 53.21875 53.421875 \r\n",
       "Q 53.21875 48.921875 51.53125 44.890625 \r\n",
       "Q 49.859375 40.875 45.40625 35.40625 \r\n",
       "Q 44.1875 33.984375 37.640625 27.21875 \r\n",
       "Q 31.109375 20.453125 19.1875 8.296875 \r\n",
       "z\r\n",
       "\" id=\"DejaVuSans-50\"/>\r\n",
       "       <path d=\"M 31.78125 66.40625 \r\n",
       "Q 24.171875 66.40625 20.328125 58.90625 \r\n",
       "Q 16.5 51.421875 16.5 36.375 \r\n",
       "Q 16.5 21.390625 20.328125 13.890625 \r\n",
       "Q 24.171875 6.390625 31.78125 6.390625 \r\n",
       "Q 39.453125 6.390625 43.28125 13.890625 \r\n",
       "Q 47.125 21.390625 47.125 36.375 \r\n",
       "Q 47.125 51.421875 43.28125 58.90625 \r\n",
       "Q 39.453125 66.40625 31.78125 66.40625 \r\n",
       "z\r\n",
       "M 31.78125 74.21875 \r\n",
       "Q 44.046875 74.21875 50.515625 64.515625 \r\n",
       "Q 56.984375 54.828125 56.984375 36.375 \r\n",
       "Q 56.984375 17.96875 50.515625 8.265625 \r\n",
       "Q 44.046875 -1.421875 31.78125 -1.421875 \r\n",
       "Q 19.53125 -1.421875 13.0625 8.265625 \r\n",
       "Q 6.59375 17.96875 6.59375 36.375 \r\n",
       "Q 6.59375 54.828125 13.0625 64.515625 \r\n",
       "Q 19.53125 74.21875 31.78125 74.21875 \r\n",
       "z\r\n",
       "\" id=\"DejaVuSans-48\"/>\r\n",
       "       <path d=\"M 12.40625 8.296875 \r\n",
       "L 28.515625 8.296875 \r\n",
       "L 28.515625 63.921875 \r\n",
       "L 10.984375 60.40625 \r\n",
       "L 10.984375 69.390625 \r\n",
       "L 28.421875 72.90625 \r\n",
       "L 38.28125 72.90625 \r\n",
       "L 38.28125 8.296875 \r\n",
       "L 54.390625 8.296875 \r\n",
       "L 54.390625 0 \r\n",
       "L 12.40625 0 \r\n",
       "z\r\n",
       "\" id=\"DejaVuSans-49\"/>\r\n",
       "       <path d=\"M 8.203125 72.90625 \r\n",
       "L 55.078125 72.90625 \r\n",
       "L 55.078125 68.703125 \r\n",
       "L 28.609375 0 \r\n",
       "L 18.3125 0 \r\n",
       "L 43.21875 64.59375 \r\n",
       "L 8.203125 64.59375 \r\n",
       "z\r\n",
       "\" id=\"DejaVuSans-55\"/>\r\n",
       "       <path d=\"M 4.890625 31.390625 \r\n",
       "L 31.203125 31.390625 \r\n",
       "L 31.203125 23.390625 \r\n",
       "L 4.890625 23.390625 \r\n",
       "z\r\n",
       "\" id=\"DejaVuSans-45\"/>\r\n",
       "       <path d=\"M 37.796875 64.3125 \r\n",
       "L 12.890625 25.390625 \r\n",
       "L 37.796875 25.390625 \r\n",
       "z\r\n",
       "M 35.203125 72.90625 \r\n",
       "L 47.609375 72.90625 \r\n",
       "L 47.609375 25.390625 \r\n",
       "L 58.015625 25.390625 \r\n",
       "L 58.015625 17.1875 \r\n",
       "L 47.609375 17.1875 \r\n",
       "L 47.609375 0 \r\n",
       "L 37.796875 0 \r\n",
       "L 37.796875 17.1875 \r\n",
       "L 4.890625 17.1875 \r\n",
       "L 4.890625 26.703125 \r\n",
       "z\r\n",
       "\" id=\"DejaVuSans-52\"/>\r\n",
       "      </defs>\r\n",
       "      <g transform=\"translate(16.421914 239.238437)scale(0.1 -0.1)\">\r\n",
       "       <use xlink:href=\"#DejaVuSans-50\"/>\r\n",
       "       <use x=\"63.623047\" xlink:href=\"#DejaVuSans-48\"/>\r\n",
       "       <use x=\"127.246094\" xlink:href=\"#DejaVuSans-49\"/>\r\n",
       "       <use x=\"190.869141\" xlink:href=\"#DejaVuSans-55\"/>\r\n",
       "       <use x=\"254.492188\" xlink:href=\"#DejaVuSans-45\"/>\r\n",
       "       <use x=\"290.576172\" xlink:href=\"#DejaVuSans-48\"/>\r\n",
       "       <use x=\"354.199219\" xlink:href=\"#DejaVuSans-52\"/>\r\n",
       "      </g>\r\n",
       "     </g>\r\n",
       "    </g>\r\n",
       "    <g id=\"xtick_2\">\r\n",
       "     <g id=\"line2d_2\">\r\n",
       "      <g>\r\n",
       "       <use style=\"stroke:#000000;stroke-width:0.8;\" x=\"66.972169\" xlink:href=\"#m9d0146186c\" y=\"224.64\"/>\r\n",
       "      </g>\r\n",
       "     </g>\r\n",
       "     <g id=\"text_2\">\r\n",
       "      <!-- 2017-05 -->\r\n",
       "      <defs>\r\n",
       "       <path d=\"M 10.796875 72.90625 \r\n",
       "L 49.515625 72.90625 \r\n",
       "L 49.515625 64.59375 \r\n",
       "L 19.828125 64.59375 \r\n",
       "L 19.828125 46.734375 \r\n",
       "Q 21.96875 47.46875 24.109375 47.828125 \r\n",
       "Q 26.265625 48.1875 28.421875 48.1875 \r\n",
       "Q 40.625 48.1875 47.75 41.5 \r\n",
       "Q 54.890625 34.8125 54.890625 23.390625 \r\n",
       "Q 54.890625 11.625 47.5625 5.09375 \r\n",
       "Q 40.234375 -1.421875 26.90625 -1.421875 \r\n",
       "Q 22.3125 -1.421875 17.546875 -0.640625 \r\n",
       "Q 12.796875 0.140625 7.71875 1.703125 \r\n",
       "L 7.71875 11.625 \r\n",
       "Q 12.109375 9.234375 16.796875 8.0625 \r\n",
       "Q 21.484375 6.890625 26.703125 6.890625 \r\n",
       "Q 35.15625 6.890625 40.078125 11.328125 \r\n",
       "Q 45.015625 15.765625 45.015625 23.390625 \r\n",
       "Q 45.015625 31 40.078125 35.4375 \r\n",
       "Q 35.15625 39.890625 26.703125 39.890625 \r\n",
       "Q 22.75 39.890625 18.8125 39.015625 \r\n",
       "Q 14.890625 38.140625 10.796875 36.28125 \r\n",
       "z\r\n",
       "\" id=\"DejaVuSans-53\"/>\r\n",
       "      </defs>\r\n",
       "      <g transform=\"translate(46.080763 239.238437)scale(0.1 -0.1)\">\r\n",
       "       <use xlink:href=\"#DejaVuSans-50\"/>\r\n",
       "       <use x=\"63.623047\" xlink:href=\"#DejaVuSans-48\"/>\r\n",
       "       <use x=\"127.246094\" xlink:href=\"#DejaVuSans-49\"/>\r\n",
       "       <use x=\"190.869141\" xlink:href=\"#DejaVuSans-55\"/>\r\n",
       "       <use x=\"254.492188\" xlink:href=\"#DejaVuSans-45\"/>\r\n",
       "       <use x=\"290.576172\" xlink:href=\"#DejaVuSans-48\"/>\r\n",
       "       <use x=\"354.199219\" xlink:href=\"#DejaVuSans-53\"/>\r\n",
       "      </g>\r\n",
       "     </g>\r\n",
       "    </g>\r\n",
       "    <g id=\"xtick_3\">\r\n",
       "     <g id=\"line2d_3\">\r\n",
       "      <g>\r\n",
       "       <use style=\"stroke:#000000;stroke-width:0.8;\" x=\"97.619646\" xlink:href=\"#m9d0146186c\" y=\"224.64\"/>\r\n",
       "      </g>\r\n",
       "     </g>\r\n",
       "     <g id=\"text_3\">\r\n",
       "      <!-- 2017-06 -->\r\n",
       "      <defs>\r\n",
       "       <path d=\"M 33.015625 40.375 \r\n",
       "Q 26.375 40.375 22.484375 35.828125 \r\n",
       "Q 18.609375 31.296875 18.609375 23.390625 \r\n",
       "Q 18.609375 15.53125 22.484375 10.953125 \r\n",
       "Q 26.375 6.390625 33.015625 6.390625 \r\n",
       "Q 39.65625 6.390625 43.53125 10.953125 \r\n",
       "Q 47.40625 15.53125 47.40625 23.390625 \r\n",
       "Q 47.40625 31.296875 43.53125 35.828125 \r\n",
       "Q 39.65625 40.375 33.015625 40.375 \r\n",
       "z\r\n",
       "M 52.59375 71.296875 \r\n",
       "L 52.59375 62.3125 \r\n",
       "Q 48.875 64.0625 45.09375 64.984375 \r\n",
       "Q 41.3125 65.921875 37.59375 65.921875 \r\n",
       "Q 27.828125 65.921875 22.671875 59.328125 \r\n",
       "Q 17.53125 52.734375 16.796875 39.40625 \r\n",
       "Q 19.671875 43.65625 24.015625 45.921875 \r\n",
       "Q 28.375 48.1875 33.59375 48.1875 \r\n",
       "Q 44.578125 48.1875 50.953125 41.515625 \r\n",
       "Q 57.328125 34.859375 57.328125 23.390625 \r\n",
       "Q 57.328125 12.15625 50.6875 5.359375 \r\n",
       "Q 44.046875 -1.421875 33.015625 -1.421875 \r\n",
       "Q 20.359375 -1.421875 13.671875 8.265625 \r\n",
       "Q 6.984375 17.96875 6.984375 36.375 \r\n",
       "Q 6.984375 53.65625 15.1875 63.9375 \r\n",
       "Q 23.390625 74.21875 37.203125 74.21875 \r\n",
       "Q 40.921875 74.21875 44.703125 73.484375 \r\n",
       "Q 48.484375 72.75 52.59375 71.296875 \r\n",
       "z\r\n",
       "\" id=\"DejaVuSans-54\"/>\r\n",
       "      </defs>\r\n",
       "      <g transform=\"translate(76.72824 239.238437)scale(0.1 -0.1)\">\r\n",
       "       <use xlink:href=\"#DejaVuSans-50\"/>\r\n",
       "       <use x=\"63.623047\" xlink:href=\"#DejaVuSans-48\"/>\r\n",
       "       <use x=\"127.246094\" xlink:href=\"#DejaVuSans-49\"/>\r\n",
       "       <use x=\"190.869141\" xlink:href=\"#DejaVuSans-55\"/>\r\n",
       "       <use x=\"254.492188\" xlink:href=\"#DejaVuSans-45\"/>\r\n",
       "       <use x=\"290.576172\" xlink:href=\"#DejaVuSans-48\"/>\r\n",
       "       <use x=\"354.199219\" xlink:href=\"#DejaVuSans-54\"/>\r\n",
       "      </g>\r\n",
       "     </g>\r\n",
       "    </g>\r\n",
       "    <g id=\"xtick_4\">\r\n",
       "     <g id=\"line2d_4\">\r\n",
       "      <g>\r\n",
       "       <use style=\"stroke:#000000;stroke-width:0.8;\" x=\"127.278495\" xlink:href=\"#m9d0146186c\" y=\"224.64\"/>\r\n",
       "      </g>\r\n",
       "     </g>\r\n",
       "     <g id=\"text_4\">\r\n",
       "      <!-- 2017-07 -->\r\n",
       "      <g transform=\"translate(106.387089 239.238437)scale(0.1 -0.1)\">\r\n",
       "       <use xlink:href=\"#DejaVuSans-50\"/>\r\n",
       "       <use x=\"63.623047\" xlink:href=\"#DejaVuSans-48\"/>\r\n",
       "       <use x=\"127.246094\" xlink:href=\"#DejaVuSans-49\"/>\r\n",
       "       <use x=\"190.869141\" xlink:href=\"#DejaVuSans-55\"/>\r\n",
       "       <use x=\"254.492188\" xlink:href=\"#DejaVuSans-45\"/>\r\n",
       "       <use x=\"290.576172\" xlink:href=\"#DejaVuSans-48\"/>\r\n",
       "       <use x=\"354.199219\" xlink:href=\"#DejaVuSans-55\"/>\r\n",
       "      </g>\r\n",
       "     </g>\r\n",
       "    </g>\r\n",
       "    <g id=\"xtick_5\">\r\n",
       "     <g id=\"line2d_5\">\r\n",
       "      <g>\r\n",
       "       <use style=\"stroke:#000000;stroke-width:0.8;\" x=\"157.925972\" xlink:href=\"#m9d0146186c\" y=\"224.64\"/>\r\n",
       "      </g>\r\n",
       "     </g>\r\n",
       "     <g id=\"text_5\">\r\n",
       "      <!-- 2017-08 -->\r\n",
       "      <defs>\r\n",
       "       <path d=\"M 31.78125 34.625 \r\n",
       "Q 24.75 34.625 20.71875 30.859375 \r\n",
       "Q 16.703125 27.09375 16.703125 20.515625 \r\n",
       "Q 16.703125 13.921875 20.71875 10.15625 \r\n",
       "Q 24.75 6.390625 31.78125 6.390625 \r\n",
       "Q 38.8125 6.390625 42.859375 10.171875 \r\n",
       "Q 46.921875 13.96875 46.921875 20.515625 \r\n",
       "Q 46.921875 27.09375 42.890625 30.859375 \r\n",
       "Q 38.875 34.625 31.78125 34.625 \r\n",
       "z\r\n",
       "M 21.921875 38.8125 \r\n",
       "Q 15.578125 40.375 12.03125 44.71875 \r\n",
       "Q 8.5 49.078125 8.5 55.328125 \r\n",
       "Q 8.5 64.0625 14.71875 69.140625 \r\n",
       "Q 20.953125 74.21875 31.78125 74.21875 \r\n",
       "Q 42.671875 74.21875 48.875 69.140625 \r\n",
       "Q 55.078125 64.0625 55.078125 55.328125 \r\n",
       "Q 55.078125 49.078125 51.53125 44.71875 \r\n",
       "Q 48 40.375 41.703125 38.8125 \r\n",
       "Q 48.828125 37.15625 52.796875 32.3125 \r\n",
       "Q 56.78125 27.484375 56.78125 20.515625 \r\n",
       "Q 56.78125 9.90625 50.3125 4.234375 \r\n",
       "Q 43.84375 -1.421875 31.78125 -1.421875 \r\n",
       "Q 19.734375 -1.421875 13.25 4.234375 \r\n",
       "Q 6.78125 9.90625 6.78125 20.515625 \r\n",
       "Q 6.78125 27.484375 10.78125 32.3125 \r\n",
       "Q 14.796875 37.15625 21.921875 38.8125 \r\n",
       "z\r\n",
       "M 18.3125 54.390625 \r\n",
       "Q 18.3125 48.734375 21.84375 45.5625 \r\n",
       "Q 25.390625 42.390625 31.78125 42.390625 \r\n",
       "Q 38.140625 42.390625 41.71875 45.5625 \r\n",
       "Q 45.3125 48.734375 45.3125 54.390625 \r\n",
       "Q 45.3125 60.0625 41.71875 63.234375 \r\n",
       "Q 38.140625 66.40625 31.78125 66.40625 \r\n",
       "Q 25.390625 66.40625 21.84375 63.234375 \r\n",
       "Q 18.3125 60.0625 18.3125 54.390625 \r\n",
       "z\r\n",
       "\" id=\"DejaVuSans-56\"/>\r\n",
       "      </defs>\r\n",
       "      <g transform=\"translate(137.034566 239.238437)scale(0.1 -0.1)\">\r\n",
       "       <use xlink:href=\"#DejaVuSans-50\"/>\r\n",
       "       <use x=\"63.623047\" xlink:href=\"#DejaVuSans-48\"/>\r\n",
       "       <use x=\"127.246094\" xlink:href=\"#DejaVuSans-49\"/>\r\n",
       "       <use x=\"190.869141\" xlink:href=\"#DejaVuSans-55\"/>\r\n",
       "       <use x=\"254.492188\" xlink:href=\"#DejaVuSans-45\"/>\r\n",
       "       <use x=\"290.576172\" xlink:href=\"#DejaVuSans-48\"/>\r\n",
       "       <use x=\"354.199219\" xlink:href=\"#DejaVuSans-56\"/>\r\n",
       "      </g>\r\n",
       "     </g>\r\n",
       "    </g>\r\n",
       "    <g id=\"xtick_6\">\r\n",
       "     <g id=\"line2d_6\">\r\n",
       "      <g>\r\n",
       "       <use style=\"stroke:#000000;stroke-width:0.8;\" x=\"188.573449\" xlink:href=\"#m9d0146186c\" y=\"224.64\"/>\r\n",
       "      </g>\r\n",
       "     </g>\r\n",
       "     <g id=\"text_6\">\r\n",
       "      <!-- 2017-09 -->\r\n",
       "      <defs>\r\n",
       "       <path d=\"M 10.984375 1.515625 \r\n",
       "L 10.984375 10.5 \r\n",
       "Q 14.703125 8.734375 18.5 7.8125 \r\n",
       "Q 22.3125 6.890625 25.984375 6.890625 \r\n",
       "Q 35.75 6.890625 40.890625 13.453125 \r\n",
       "Q 46.046875 20.015625 46.78125 33.40625 \r\n",
       "Q 43.953125 29.203125 39.59375 26.953125 \r\n",
       "Q 35.25 24.703125 29.984375 24.703125 \r\n",
       "Q 19.046875 24.703125 12.671875 31.3125 \r\n",
       "Q 6.296875 37.9375 6.296875 49.421875 \r\n",
       "Q 6.296875 60.640625 12.9375 67.421875 \r\n",
       "Q 19.578125 74.21875 30.609375 74.21875 \r\n",
       "Q 43.265625 74.21875 49.921875 64.515625 \r\n",
       "Q 56.59375 54.828125 56.59375 36.375 \r\n",
       "Q 56.59375 19.140625 48.40625 8.859375 \r\n",
       "Q 40.234375 -1.421875 26.421875 -1.421875 \r\n",
       "Q 22.703125 -1.421875 18.890625 -0.6875 \r\n",
       "Q 15.09375 0.046875 10.984375 1.515625 \r\n",
       "z\r\n",
       "M 30.609375 32.421875 \r\n",
       "Q 37.25 32.421875 41.125 36.953125 \r\n",
       "Q 45.015625 41.5 45.015625 49.421875 \r\n",
       "Q 45.015625 57.28125 41.125 61.84375 \r\n",
       "Q 37.25 66.40625 30.609375 66.40625 \r\n",
       "Q 23.96875 66.40625 20.09375 61.84375 \r\n",
       "Q 16.21875 57.28125 16.21875 49.421875 \r\n",
       "Q 16.21875 41.5 20.09375 36.953125 \r\n",
       "Q 23.96875 32.421875 30.609375 32.421875 \r\n",
       "z\r\n",
       "\" id=\"DejaVuSans-57\"/>\r\n",
       "      </defs>\r\n",
       "      <g transform=\"translate(167.682043 239.238437)scale(0.1 -0.1)\">\r\n",
       "       <use xlink:href=\"#DejaVuSans-50\"/>\r\n",
       "       <use x=\"63.623047\" xlink:href=\"#DejaVuSans-48\"/>\r\n",
       "       <use x=\"127.246094\" xlink:href=\"#DejaVuSans-49\"/>\r\n",
       "       <use x=\"190.869141\" xlink:href=\"#DejaVuSans-55\"/>\r\n",
       "       <use x=\"254.492188\" xlink:href=\"#DejaVuSans-45\"/>\r\n",
       "       <use x=\"290.576172\" xlink:href=\"#DejaVuSans-48\"/>\r\n",
       "       <use x=\"354.199219\" xlink:href=\"#DejaVuSans-57\"/>\r\n",
       "      </g>\r\n",
       "     </g>\r\n",
       "    </g>\r\n",
       "    <g id=\"xtick_7\">\r\n",
       "     <g id=\"line2d_7\">\r\n",
       "      <g>\r\n",
       "       <use style=\"stroke:#000000;stroke-width:0.8;\" x=\"218.232298\" xlink:href=\"#m9d0146186c\" y=\"224.64\"/>\r\n",
       "      </g>\r\n",
       "     </g>\r\n",
       "     <g id=\"text_7\">\r\n",
       "      <!-- 2017-10 -->\r\n",
       "      <g transform=\"translate(197.340891 239.238437)scale(0.1 -0.1)\">\r\n",
       "       <use xlink:href=\"#DejaVuSans-50\"/>\r\n",
       "       <use x=\"63.623047\" xlink:href=\"#DejaVuSans-48\"/>\r\n",
       "       <use x=\"127.246094\" xlink:href=\"#DejaVuSans-49\"/>\r\n",
       "       <use x=\"190.869141\" xlink:href=\"#DejaVuSans-55\"/>\r\n",
       "       <use x=\"254.492188\" xlink:href=\"#DejaVuSans-45\"/>\r\n",
       "       <use x=\"290.576172\" xlink:href=\"#DejaVuSans-49\"/>\r\n",
       "       <use x=\"354.199219\" xlink:href=\"#DejaVuSans-48\"/>\r\n",
       "      </g>\r\n",
       "     </g>\r\n",
       "    </g>\r\n",
       "    <g id=\"xtick_8\">\r\n",
       "     <g id=\"line2d_8\">\r\n",
       "      <g>\r\n",
       "       <use style=\"stroke:#000000;stroke-width:0.8;\" x=\"248.879775\" xlink:href=\"#m9d0146186c\" y=\"224.64\"/>\r\n",
       "      </g>\r\n",
       "     </g>\r\n",
       "     <g id=\"text_8\">\r\n",
       "      <!-- 2017-11 -->\r\n",
       "      <g transform=\"translate(227.988368 239.238437)scale(0.1 -0.1)\">\r\n",
       "       <use xlink:href=\"#DejaVuSans-50\"/>\r\n",
       "       <use x=\"63.623047\" xlink:href=\"#DejaVuSans-48\"/>\r\n",
       "       <use x=\"127.246094\" xlink:href=\"#DejaVuSans-49\"/>\r\n",
       "       <use x=\"190.869141\" xlink:href=\"#DejaVuSans-55\"/>\r\n",
       "       <use x=\"254.492188\" xlink:href=\"#DejaVuSans-45\"/>\r\n",
       "       <use x=\"290.576172\" xlink:href=\"#DejaVuSans-49\"/>\r\n",
       "       <use x=\"354.199219\" xlink:href=\"#DejaVuSans-49\"/>\r\n",
       "      </g>\r\n",
       "     </g>\r\n",
       "    </g>\r\n",
       "    <g id=\"xtick_9\">\r\n",
       "     <g id=\"line2d_9\">\r\n",
       "      <g>\r\n",
       "       <use style=\"stroke:#000000;stroke-width:0.8;\" x=\"278.538623\" xlink:href=\"#m9d0146186c\" y=\"224.64\"/>\r\n",
       "      </g>\r\n",
       "     </g>\r\n",
       "     <g id=\"text_9\">\r\n",
       "      <!-- 2017-12 -->\r\n",
       "      <g transform=\"translate(257.647217 239.238437)scale(0.1 -0.1)\">\r\n",
       "       <use xlink:href=\"#DejaVuSans-50\"/>\r\n",
       "       <use x=\"63.623047\" xlink:href=\"#DejaVuSans-48\"/>\r\n",
       "       <use x=\"127.246094\" xlink:href=\"#DejaVuSans-49\"/>\r\n",
       "       <use x=\"190.869141\" xlink:href=\"#DejaVuSans-55\"/>\r\n",
       "       <use x=\"254.492188\" xlink:href=\"#DejaVuSans-45\"/>\r\n",
       "       <use x=\"290.576172\" xlink:href=\"#DejaVuSans-49\"/>\r\n",
       "       <use x=\"354.199219\" xlink:href=\"#DejaVuSans-50\"/>\r\n",
       "      </g>\r\n",
       "     </g>\r\n",
       "    </g>\r\n",
       "    <g id=\"xtick_10\">\r\n",
       "     <g id=\"line2d_10\">\r\n",
       "      <g>\r\n",
       "       <use style=\"stroke:#000000;stroke-width:0.8;\" x=\"309.1861\" xlink:href=\"#m9d0146186c\" y=\"224.64\"/>\r\n",
       "      </g>\r\n",
       "     </g>\r\n",
       "     <g id=\"text_10\">\r\n",
       "      <!-- 2018-01 -->\r\n",
       "      <g transform=\"translate(288.294694 239.238437)scale(0.1 -0.1)\">\r\n",
       "       <use xlink:href=\"#DejaVuSans-50\"/>\r\n",
       "       <use x=\"63.623047\" xlink:href=\"#DejaVuSans-48\"/>\r\n",
       "       <use x=\"127.246094\" xlink:href=\"#DejaVuSans-49\"/>\r\n",
       "       <use x=\"190.869141\" xlink:href=\"#DejaVuSans-56\"/>\r\n",
       "       <use x=\"254.492188\" xlink:href=\"#DejaVuSans-45\"/>\r\n",
       "       <use x=\"290.576172\" xlink:href=\"#DejaVuSans-48\"/>\r\n",
       "       <use x=\"354.199219\" xlink:href=\"#DejaVuSans-49\"/>\r\n",
       "      </g>\r\n",
       "     </g>\r\n",
       "    </g>\r\n",
       "    <g id=\"xtick_11\">\r\n",
       "     <g id=\"line2d_11\">\r\n",
       "      <g>\r\n",
       "       <use style=\"stroke:#000000;stroke-width:0.8;\" x=\"339.833577\" xlink:href=\"#m9d0146186c\" y=\"224.64\"/>\r\n",
       "      </g>\r\n",
       "     </g>\r\n",
       "     <g id=\"text_11\">\r\n",
       "      <!-- 2018-02 -->\r\n",
       "      <g transform=\"translate(318.942171 239.238437)scale(0.1 -0.1)\">\r\n",
       "       <use xlink:href=\"#DejaVuSans-50\"/>\r\n",
       "       <use x=\"63.623047\" xlink:href=\"#DejaVuSans-48\"/>\r\n",
       "       <use x=\"127.246094\" xlink:href=\"#DejaVuSans-49\"/>\r\n",
       "       <use x=\"190.869141\" xlink:href=\"#DejaVuSans-56\"/>\r\n",
       "       <use x=\"254.492188\" xlink:href=\"#DejaVuSans-45\"/>\r\n",
       "       <use x=\"290.576172\" xlink:href=\"#DejaVuSans-48\"/>\r\n",
       "       <use x=\"354.199219\" xlink:href=\"#DejaVuSans-50\"/>\r\n",
       "      </g>\r\n",
       "     </g>\r\n",
       "    </g>\r\n",
       "   </g>\r\n",
       "   <g id=\"matplotlib.axis_2\">\r\n",
       "    <g id=\"ytick_1\">\r\n",
       "     <g id=\"line2d_12\">\r\n",
       "      <defs>\r\n",
       "       <path d=\"M 0 0 \r\n",
       "L -3.5 0 \r\n",
       "\" id=\"m2dd46500b9\" style=\"stroke:#000000;stroke-width:0.8;\"/>\r\n",
       "      </defs>\r\n",
       "      <g>\r\n",
       "       <use style=\"stroke:#000000;stroke-width:0.8;\" x=\"26.925\" xlink:href=\"#m2dd46500b9\" y=\"194.367723\"/>\r\n",
       "      </g>\r\n",
       "     </g>\r\n",
       "     <g id=\"text_12\">\r\n",
       "      <!-- 20 -->\r\n",
       "      <g transform=\"translate(7.2 198.166942)scale(0.1 -0.1)\">\r\n",
       "       <use xlink:href=\"#DejaVuSans-50\"/>\r\n",
       "       <use x=\"63.623047\" xlink:href=\"#DejaVuSans-48\"/>\r\n",
       "      </g>\r\n",
       "     </g>\r\n",
       "    </g>\r\n",
       "    <g id=\"ytick_2\">\r\n",
       "     <g id=\"line2d_13\">\r\n",
       "      <g>\r\n",
       "       <use style=\"stroke:#000000;stroke-width:0.8;\" x=\"26.925\" xlink:href=\"#m2dd46500b9\" y=\"155.532216\"/>\r\n",
       "      </g>\r\n",
       "     </g>\r\n",
       "     <g id=\"text_13\">\r\n",
       "      <!-- 22 -->\r\n",
       "      <g transform=\"translate(7.2 159.331435)scale(0.1 -0.1)\">\r\n",
       "       <use xlink:href=\"#DejaVuSans-50\"/>\r\n",
       "       <use x=\"63.623047\" xlink:href=\"#DejaVuSans-50\"/>\r\n",
       "      </g>\r\n",
       "     </g>\r\n",
       "    </g>\r\n",
       "    <g id=\"ytick_3\">\r\n",
       "     <g id=\"line2d_14\">\r\n",
       "      <g>\r\n",
       "       <use style=\"stroke:#000000;stroke-width:0.8;\" x=\"26.925\" xlink:href=\"#m2dd46500b9\" y=\"116.69671\"/>\r\n",
       "      </g>\r\n",
       "     </g>\r\n",
       "     <g id=\"text_14\">\r\n",
       "      <!-- 24 -->\r\n",
       "      <g transform=\"translate(7.2 120.495929)scale(0.1 -0.1)\">\r\n",
       "       <use xlink:href=\"#DejaVuSans-50\"/>\r\n",
       "       <use x=\"63.623047\" xlink:href=\"#DejaVuSans-52\"/>\r\n",
       "      </g>\r\n",
       "     </g>\r\n",
       "    </g>\r\n",
       "    <g id=\"ytick_4\">\r\n",
       "     <g id=\"line2d_15\">\r\n",
       "      <g>\r\n",
       "       <use style=\"stroke:#000000;stroke-width:0.8;\" x=\"26.925\" xlink:href=\"#m2dd46500b9\" y=\"77.861204\"/>\r\n",
       "      </g>\r\n",
       "     </g>\r\n",
       "     <g id=\"text_15\">\r\n",
       "      <!-- 26 -->\r\n",
       "      <g transform=\"translate(7.2 81.660423)scale(0.1 -0.1)\">\r\n",
       "       <use xlink:href=\"#DejaVuSans-50\"/>\r\n",
       "       <use x=\"63.623047\" xlink:href=\"#DejaVuSans-54\"/>\r\n",
       "      </g>\r\n",
       "     </g>\r\n",
       "    </g>\r\n",
       "    <g id=\"ytick_5\">\r\n",
       "     <g id=\"line2d_16\">\r\n",
       "      <g>\r\n",
       "       <use style=\"stroke:#000000;stroke-width:0.8;\" x=\"26.925\" xlink:href=\"#m2dd46500b9\" y=\"39.025697\"/>\r\n",
       "      </g>\r\n",
       "     </g>\r\n",
       "     <g id=\"text_16\">\r\n",
       "      <!-- 28 -->\r\n",
       "      <g transform=\"translate(7.2 42.824916)scale(0.1 -0.1)\">\r\n",
       "       <use xlink:href=\"#DejaVuSans-50\"/>\r\n",
       "       <use x=\"63.623047\" xlink:href=\"#DejaVuSans-56\"/>\r\n",
       "      </g>\r\n",
       "     </g>\r\n",
       "    </g>\r\n",
       "   </g>\r\n",
       "   <g id=\"line2d_17\">\r\n",
       "    <path clip-path=\"url(#p91f0419d63)\" d=\"M 42.143182 156.503104 \r\n",
       "L 43.111214 128.735717 \r\n",
       "L 43.13181 100.774153 \r\n",
       "L 43.142108 147.959293 \r\n",
       "L 53.800757 115.531645 \r\n",
       "L 75.66386 89.123501 \r\n",
       "L 75.674158 142.133967 \r\n",
       "L 76.683383 139.027126 \r\n",
       "L 77.455749 78.832091 \r\n",
       "L 80.473124 17.083636 \r\n",
       "L 80.493721 144.464097 \r\n",
       "L 83.449308 45.627734 \r\n",
       "L 83.696465 184.853024 \r\n",
       "L 83.706763 174.17326 \r\n",
       "L 84.664496 181.940361 \r\n",
       "L 84.685093 191.260882 \r\n",
       "L 84.715988 188.930752 \r\n",
       "L 86.610858 139.221304 \r\n",
       "L 86.724139 185.047201 \r\n",
       "L 86.734437 185.629734 \r\n",
       "L 88.660202 193.202658 \r\n",
       "L 92.604417 153.590441 \r\n",
       "L 92.7074 182.522893 \r\n",
       "L 92.717698 181.940361 \r\n",
       "L 92.738294 183.493781 \r\n",
       "L 93.469467 150.483601 \r\n",
       "L 93.500362 192.425947 \r\n",
       "L 106.187758 129.124072 \r\n",
       "L 106.198056 143.104854 \r\n",
       "L 113.066963 128.735717 \r\n",
       "L 113.077262 156.697282 \r\n",
       "L 113.08756 153.784619 \r\n",
       "L 130.089907 170.289709 \r\n",
       "L 130.100205 172.231484 \r\n",
       "L 131.953883 99.41491 \r\n",
       "L 131.964181 178.250988 \r\n",
       "L 131.974479 176.697567 \r\n",
       "L 133.004301 162.522608 \r\n",
       "L 137.95774 123.687101 \r\n",
       "L 167.812255 170.483886 \r\n",
       "L 168.636112 153.784619 \r\n",
       "L 168.64641 163.687673 \r\n",
       "L 171.807961 135.726108 \r\n",
       "L 171.972732 214.756364 \r\n",
       "L 171.993329 214.368009 \r\n",
       "L 174.609074 143.881565 \r\n",
       "L 174.619373 173.396549 \r\n",
       "L 175.535913 154.755506 \r\n",
       "L 176.390665 173.590727 \r\n",
       "L 176.400963 205.241665 \r\n",
       "L 180.479055 125.046344 \r\n",
       "L 180.551142 189.90164 \r\n",
       "L 180.561441 188.348219 \r\n",
       "L 223.752139 27.569223 \r\n",
       "L 223.896314 160.580832 \r\n",
       "L 223.999296 178.445165 \r\n",
       "L 227.02697 147.37676 \r\n",
       "L 227.037268 166.988691 \r\n",
       "L 227.057865 164.076028 \r\n",
       "L 227.974406 150.677778 \r\n",
       "L 227.984704 159.027412 \r\n",
       "L 228.262755 198.639629 \r\n",
       "L 228.829157 136.696996 \r\n",
       "L 228.911543 172.425662 \r\n",
       "L 229.086612 166.988691 \r\n",
       "L 230.02375 154.561329 \r\n",
       "L 230.13703 183.687959 \r\n",
       "L 231.00208 152.231198 \r\n",
       "L 231.094764 169.901354 \r\n",
       "L 231.599376 147.37676 \r\n",
       "L 231.609674 165.241093 \r\n",
       "L 232.021603 177.085922 \r\n",
       "L 232.103988 191.45506 \r\n",
       "L 232.124585 189.513285 \r\n",
       "L 252.844586 192.037592 \r\n",
       "L 252.854884 195.33861 \r\n",
       "L 253.987687 196.697853 \r\n",
       "L 254.008284 200.581404 \r\n",
       "L 278.38415 188.348219 \r\n",
       "L 278.651904 201.358114 \r\n",
       "L 279.032937 185.435556 \r\n",
       "L 332.583636 87.764258 \r\n",
       "L 346.506818 141.939789 \r\n",
       "L 346.506818 141.939789 \r\n",
       "\" style=\"fill:none;stroke:#1f77b4;stroke-linecap:square;stroke-width:1.5;\"/>\r\n",
       "   </g>\r\n",
       "   <g id=\"patch_3\">\r\n",
       "    <path d=\"M 26.925 224.64 \r\n",
       "L 26.925 7.2 \r\n",
       "\" style=\"fill:none;stroke:#000000;stroke-linecap:square;stroke-linejoin:miter;stroke-width:0.8;\"/>\r\n",
       "   </g>\r\n",
       "   <g id=\"patch_4\">\r\n",
       "    <path d=\"M 361.725 224.64 \r\n",
       "L 361.725 7.2 \r\n",
       "\" style=\"fill:none;stroke:#000000;stroke-linecap:square;stroke-linejoin:miter;stroke-width:0.8;\"/>\r\n",
       "   </g>\r\n",
       "   <g id=\"patch_5\">\r\n",
       "    <path d=\"M 26.925 224.64 \r\n",
       "L 361.725 224.64 \r\n",
       "\" style=\"fill:none;stroke:#000000;stroke-linecap:square;stroke-linejoin:miter;stroke-width:0.8;\"/>\r\n",
       "   </g>\r\n",
       "   <g id=\"patch_6\">\r\n",
       "    <path d=\"M 26.925 7.2 \r\n",
       "L 361.725 7.2 \r\n",
       "\" style=\"fill:none;stroke:#000000;stroke-linecap:square;stroke-linejoin:miter;stroke-width:0.8;\"/>\r\n",
       "   </g>\r\n",
       "  </g>\r\n",
       " </g>\r\n",
       " <defs>\r\n",
       "  <clipPath id=\"p91f0419d63\">\r\n",
       "   <rect height=\"217.44\" width=\"334.8\" x=\"26.925\" y=\"7.2\"/>\r\n",
       "  </clipPath>\r\n",
       " </defs>\r\n",
       "</svg>\r\n"
      ],
      "text/plain": [
       "<Figure size 432x288 with 1 Axes>"
      ]
     },
     "metadata": {
      "needs_background": "light"
     },
     "output_type": "display_data"
    }
   ],
   "source": [
    "plt.plot(rtime,temp)"
   ]
  },
  {
   "cell_type": "code",
   "execution_count": 15,
   "metadata": {},
   "outputs": [],
   "source": [
    "isro.write.csv('isro.csv')"
   ]
  },
  {
   "cell_type": "code",
   "execution_count": 16,
   "metadata": {},
   "outputs": [],
   "source": [
    "df3 = spark.read.csv('isro.csv',inferSchema=True)"
   ]
  },
  {
   "cell_type": "code",
   "execution_count": 17,
   "metadata": {},
   "outputs": [
    {
     "data": {
      "text/plain": [
       "29825"
      ]
     },
     "execution_count": 17,
     "metadata": {},
     "output_type": "execute_result"
    }
   ],
   "source": [
    "df3.count()"
   ]
  },
  {
   "cell_type": "code",
   "execution_count": 18,
   "metadata": {},
   "outputs": [
    {
     "name": "stdout",
     "output_type": "stream",
     "text": [
      "root\n",
      " |-- _c0: timestamp (nullable = true)\n",
      " |-- _c1: integer (nullable = true)\n",
      " |-- _c2: double (nullable = true)\n",
      " |-- _c3: double (nullable = true)\n",
      " |-- _c4: double (nullable = true)\n",
      " |-- _c5: double (nullable = true)\n",
      " |-- _c6: double (nullable = true)\n",
      " |-- _c7: double (nullable = true)\n",
      " |-- _c8: double (nullable = true)\n",
      " |-- _c9: double (nullable = true)\n",
      " |-- _c10: double (nullable = true)\n",
      " |-- _c11: double (nullable = true)\n",
      " |-- _c12: double (nullable = true)\n",
      " |-- _c13: double (nullable = true)\n",
      " |-- _c14: double (nullable = true)\n",
      "\n"
     ]
    }
   ],
   "source": [
    "df3.printSchema()"
   ]
  },
  {
   "cell_type": "code",
   "execution_count": 19,
   "metadata": {},
   "outputs": [
    {
     "data": {
      "text/plain": [
       "DataFrame[]"
      ]
     },
     "execution_count": 19,
     "metadata": {},
     "output_type": "execute_result"
    }
   ],
   "source": [
    "spark.sql(\"create database chandan\")"
   ]
  },
  {
   "cell_type": "code",
   "execution_count": 20,
   "metadata": {},
   "outputs": [],
   "source": [
    "# test.write.jdbc(\"jdbc:mysql://localhost:3306\",\"rrsc_aws.aws_test\",properties={'user':'chandanshastri','password':'superman'})"
   ]
  },
  {
   "cell_type": "code",
   "execution_count": 21,
   "metadata": {},
   "outputs": [],
   "source": [
    "test.write.mode(\"append\").saveAsTable(\"chandan.test\")"
   ]
  },
  {
   "cell_type": "code",
   "execution_count": 23,
   "metadata": {},
   "outputs": [
    {
     "name": "stdout",
     "output_type": "stream",
     "text": [
      "++\n",
      "||\n",
      "++\n",
      "++\n",
      "\n"
     ]
    }
   ],
   "source": [
    "spark.sql(\"use chandan\").show()"
   ]
  },
  {
   "cell_type": "code",
   "execution_count": 24,
   "metadata": {},
   "outputs": [
    {
     "name": "stdout",
     "output_type": "stream",
     "text": [
      "+--------+---------+-----------+\n",
      "|database|tableName|isTemporary|\n",
      "+--------+---------+-----------+\n",
      "| chandan|     test|      false|\n",
      "+--------+---------+-----------+\n",
      "\n"
     ]
    }
   ],
   "source": [
    "spark.sql(\"show tables\").show()"
   ]
  },
  {
   "cell_type": "code",
   "execution_count": 25,
   "metadata": {},
   "outputs": [
    {
     "name": "stdout",
     "output_type": "stream",
     "text": [
      "+-------------------+-------+------+-----+\n",
      "|              RTIME|AirTemp|RelHum|RAINt|\n",
      "+-------------------+-------+------+-----+\n",
      "|2017-04-05 21:15:00|  21.95| 81.30|8.890|\n",
      "|2017-04-06 20:45:00|  23.38| 81.20|1.016|\n",
      "|2017-04-06 21:15:00|  24.82| 78.76|1.524|\n",
      "|2017-04-06 21:30:00|  22.39| 91.50|1.270|\n",
      "|2017-04-17 16:15:00|  24.06| 66.82|7.112|\n",
      "|2017-05-09 19:00:00|  25.42| 73.37|1.270|\n",
      "|2017-05-09 19:15:00|  22.69| 90.90|1.778|\n",
      "|2017-05-10 19:45:00|  22.85| 85.80|1.524|\n",
      "|2017-05-11 14:30:00|  25.95| 80.70|2.540|\n",
      "|2017-05-14 15:45:00|  29.13| 73.50|1.016|\n",
      "|2017-05-14 16:00:00|  23.52| 83.10|4.572|\n",
      "|2017-05-14 16:15:00|  22.57| 78.99|1.524|\n",
      "|2017-05-17 16:00:00|  27.66| 75.14|1.270|\n",
      "|2017-05-17 21:45:00|  22.68| 89.10|4.064|\n",
      "|2017-05-17 22:00:00|  20.49| 94.20|2.032|\n",
      "|2017-05-17 22:15:00|  21.04| 94.20|2.286|\n",
      "|2017-05-18 21:30:00|  20.64| 94.40|1.270|\n",
      "|2017-05-18 21:45:00|  20.43| 94.60|1.270|\n",
      "|2017-05-18 22:00:00|  20.16| 95.70|1.778|\n",
      "|2017-05-18 22:15:00|  20.25| 96.00|1.778|\n",
      "+-------------------+-------+------+-----+\n",
      "only showing top 20 rows\n",
      "\n"
     ]
    }
   ],
   "source": [
    "spark.sql(\"select * from test\").show()"
   ]
  },
  {
   "cell_type": "code",
   "execution_count": 31,
   "metadata": {},
   "outputs": [],
   "source": [
    "df3.createTempView(\"test4view\")"
   ]
  },
  {
   "cell_type": "code",
   "execution_count": 33,
   "metadata": {},
   "outputs": [
    {
     "name": "stdout",
     "output_type": "stream",
     "text": [
      "+--------+---------+-----------+\n",
      "|database|tableName|isTemporary|\n",
      "+--------+---------+-----------+\n",
      "| chandan|     test|      false|\n",
      "|        |test4view|       true|\n",
      "+--------+---------+-----------+\n",
      "\n"
     ]
    }
   ],
   "source": [
    "spark.sql(\"show tables\").show()"
   ]
  },
  {
   "cell_type": "code",
   "execution_count": 34,
   "metadata": {},
   "outputs": [
    {
     "data": {
      "text/plain": [
       "DataFrame[]"
      ]
     },
     "execution_count": 34,
     "metadata": {},
     "output_type": "execute_result"
    }
   ],
   "source": [
    "spark.sql(\"CREATE TABLE chandan.test4 LIKE chandan.test location 'F:/HDFS/'\")"
   ]
  },
  {
   "cell_type": "code",
   "execution_count": 35,
   "metadata": {},
   "outputs": [
    {
     "name": "stdout",
     "output_type": "stream",
     "text": [
      "+--------+---------+-----------+\n",
      "|database|tableName|isTemporary|\n",
      "+--------+---------+-----------+\n",
      "| chandan|     test|      false|\n",
      "| chandan|    test4|      false|\n",
      "|        |test4view|       true|\n",
      "+--------+---------+-----------+\n",
      "\n"
     ]
    }
   ],
   "source": [
    "spark.sql(\"show tables\").show()"
   ]
  },
  {
   "cell_type": "code",
   "execution_count": 38,
   "metadata": {},
   "outputs": [
    {
     "data": {
      "text/plain": [
       "DataFrame[]"
      ]
     },
     "execution_count": 38,
     "metadata": {},
     "output_type": "execute_result"
    }
   ],
   "source": [
    "spark.sql(\"insert into chandan.test4 select * from test\")"
   ]
  },
  {
   "cell_type": "code",
   "execution_count": 39,
   "metadata": {},
   "outputs": [
    {
     "name": "stdout",
     "output_type": "stream",
     "text": [
      "+-------------------+-------+------+-----+\n",
      "|              RTIME|AirTemp|RelHum|RAINt|\n",
      "+-------------------+-------+------+-----+\n",
      "|2017-04-05 21:15:00|  21.95| 81.30|8.890|\n",
      "|2017-04-06 20:45:00|  23.38| 81.20|1.016|\n",
      "|2017-04-06 21:15:00|  24.82| 78.76|1.524|\n",
      "|2017-04-06 21:30:00|  22.39| 91.50|1.270|\n",
      "|2017-04-17 16:15:00|  24.06| 66.82|7.112|\n",
      "|2017-05-09 19:00:00|  25.42| 73.37|1.270|\n",
      "|2017-05-09 19:15:00|  22.69| 90.90|1.778|\n",
      "|2017-05-10 19:45:00|  22.85| 85.80|1.524|\n",
      "|2017-05-11 14:30:00|  25.95| 80.70|2.540|\n",
      "|2017-05-14 15:45:00|  29.13| 73.50|1.016|\n",
      "|2017-05-14 16:00:00|  23.52| 83.10|4.572|\n",
      "|2017-05-14 16:15:00|  22.57| 78.99|1.524|\n",
      "|2017-05-17 16:00:00|  27.66| 75.14|1.270|\n",
      "|2017-05-17 21:45:00|  22.68| 89.10|4.064|\n",
      "|2017-05-17 22:00:00|  20.49| 94.20|2.032|\n",
      "|2017-05-17 22:15:00|  21.04| 94.20|2.286|\n",
      "|2017-05-18 21:30:00|  20.64| 94.40|1.270|\n",
      "|2017-05-18 21:45:00|  20.43| 94.60|1.270|\n",
      "|2017-05-18 22:00:00|  20.16| 95.70|1.778|\n",
      "|2017-05-18 22:15:00|  20.25| 96.00|1.778|\n",
      "+-------------------+-------+------+-----+\n",
      "only showing top 20 rows\n",
      "\n"
     ]
    }
   ],
   "source": [
    "spark.sql(\"select * from chandan.test4\").show()"
   ]
  },
  {
   "cell_type": "code",
   "execution_count": null,
   "metadata": {},
   "outputs": [],
   "source": []
  }
 ],
 "metadata": {
  "kernelspec": {
   "display_name": "Python 3.7.5 64-bit",
   "language": "python",
   "name": "python37564bita61036862bae45bcafb550af5af65e79"
  },
  "language_info": {
   "codemirror_mode": {
    "name": "ipython",
    "version": 3
   },
   "file_extension": ".py",
   "mimetype": "text/x-python",
   "name": "python",
   "nbconvert_exporter": "python",
   "pygments_lexer": "ipython3",
   "version": "3.7.5"
  }
 },
 "nbformat": 4,
 "nbformat_minor": 2
}
