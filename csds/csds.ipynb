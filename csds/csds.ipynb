{
 "cells": [
  {
   "cell_type": "markdown",
   "metadata": {},
   "source": [
    "## Weather Data Analysis\n",
    "\n",
    "#### <a href=\"https://chandanshastri.github.io\"> &copy; Chandan Shastri </a>"
   ]
  },
  {
   "cell_type": "code",
   "execution_count": 97,
   "metadata": {},
   "outputs": [],
   "source": [
    "import tensorflow as tf\n",
    "\n",
    "from pyspark.sql import SparkSession\n",
    "from time import time"
   ]
  },
  {
   "cell_type": "markdown",
   "metadata": {},
   "source": [
    "### Creating a Spark Session :"
   ]
  },
  {
   "cell_type": "code",
   "execution_count": 28,
   "metadata": {},
   "outputs": [],
   "source": [
    "spark = SparkSession.builder.master('local').appName('TT').enableHiveSupport().getOrCreate()"
   ]
  },
  {
   "cell_type": "code",
   "execution_count": 29,
   "metadata": {},
   "outputs": [
    {
     "data": {
      "text/html": [
       "\n",
       "            <div>\n",
       "                <p><b>SparkSession - hive</b></p>\n",
       "                \n",
       "        <div>\n",
       "            <p><b>SparkContext</b></p>\n",
       "\n",
       "            <p><a href=\"http://host.docker.internal:4040\">Spark UI</a></p>\n",
       "\n",
       "            <dl>\n",
       "              <dt>Version</dt>\n",
       "                <dd><code>v3.0.0-preview2</code></dd>\n",
       "              <dt>Master</dt>\n",
       "                <dd><code>local</code></dd>\n",
       "              <dt>AppName</dt>\n",
       "                <dd><code>TT</code></dd>\n",
       "            </dl>\n",
       "        </div>\n",
       "        \n",
       "            </div>\n",
       "        "
      ],
      "text/plain": [
       "<pyspark.sql.session.SparkSession at 0x1559a49a648>"
      ]
     },
     "execution_count": 29,
     "metadata": {},
     "output_type": "execute_result"
    }
   ],
   "source": [
    "spark"
   ]
  },
  {
   "cell_type": "markdown",
   "metadata": {},
   "source": [
    "### Loading Data to Spark DataFrame from MySQL database :"
   ]
  },
  {
   "cell_type": "code",
   "execution_count": 32,
   "metadata": {},
   "outputs": [],
   "source": [
    "isro = spark.read.jdbc(\"jdbc:mysql://localhost:3306\",\"rrsc_aws.aws_log\",properties={'user':'chandanshastri','password':'superman'})"
   ]
  },
  {
   "cell_type": "code",
   "execution_count": 36,
   "metadata": {},
   "outputs": [
    {
     "name": "stdout",
     "output_type": "stream",
     "text": [
      "+-------------------+------+---------+-------+------+-----+-----+-----+-----+-----+--------+-------+----------+-------+--------+\n",
      "|RTIME              |REC_NO|Battery_V|AirTemp|RelHum|WS   |WD   |RAINt|RAINa|VWC  |SoilTemp|SlrAvg |SlrKjTot  |SlrWha |Slr_kJ_a|\n",
      "+-------------------+------+---------+-------+------+-----+-----+-----+-----+-----+--------+-------+----------+-------+--------+\n",
      "|2017-04-04 16:30:00|8     |13.31    |34.14  |29.65 |0.394|157.2|0.000|0.000|35.78|27.86   |121.400|218.480400|524.808|1889.308|\n",
      "|2017-04-04 16:45:00|9     |13.28    |34.02  |31.51 |0.128|292.2|0.000|0.000|35.84|27.92   |99.700 |179.383700|574.636|2068.691|\n",
      "|2017-04-04 17:00:00|10    |13.24    |33.65  |31.36 |0.183|184.9|0.000|0.000|35.84|27.97   |79.200 |142.552400|614.234|2211.243|\n",
      "|2017-04-04 17:15:00|11    |13.23    |33.36  |31.74 |0.108|169.8|0.000|0.000|35.84|28.02   |60.500 |108.905900|644.486|2320.150|\n",
      "|2017-04-04 17:30:00|12    |13.23    |33.30  |31.03 |0.175|210.4|0.000|0.000|35.83|28.06   |48.370 |87.061010 |668.669|2407.209|\n",
      "|2017-04-04 17:45:00|13    |13.20    |32.99  |30.94 |0.279|306.4|0.000|0.000|35.83|28.11   |28.310 |50.952890 |682.823|2458.161|\n",
      "|2017-04-04 18:00:00|14    |13.19    |32.54  |31.94 |0.251|271.6|0.000|0.000|35.83|28.15   |16.150 |29.061720 |690.896|2487.223|\n",
      "|2017-04-04 18:15:00|15    |13.15    |32.26  |32.98 |0.205|219.9|0.000|0.000|35.83|28.19   |3.102  |5.584118  |692.447|2492.809|\n",
      "|2017-04-04 18:30:00|16    |13.15    |31.97  |33.60 |0.014|82.1 |0.000|0.000|35.83|28.23   |0.015  |0.026112  |692.454|2492.835|\n",
      "|2017-04-04 18:45:00|17    |13.14    |31.66  |34.41 |0.307|322.9|0.000|0.000|35.83|28.26   |0.000  |0.000000  |692.454|2492.835|\n",
      "+-------------------+------+---------+-------+------+-----+-----+-----+-----+-----+--------+-------+----------+-------+--------+\n",
      "only showing top 10 rows\n",
      "\n"
     ]
    }
   ],
   "source": [
    "isro.show(10,truncate=False)"
   ]
  },
  {
   "cell_type": "markdown",
   "metadata": {},
   "source": [
    "### Total Number of rows in our data "
   ]
  },
  {
   "cell_type": "code",
   "execution_count": 113,
   "metadata": {},
   "outputs": [
    {
     "data": {
      "text/plain": [
       "29825"
      ]
     },
     "execution_count": 113,
     "metadata": {},
     "output_type": "execute_result"
    }
   ],
   "source": [
    "isro.count()"
   ]
  },
  {
   "cell_type": "code",
   "execution_count": 38,
   "metadata": {},
   "outputs": [
    {
     "name": "stdout",
     "output_type": "stream",
     "text": [
      "root\n",
      " |-- RTIME: timestamp (nullable = true)\n",
      " |-- REC_NO: integer (nullable = true)\n",
      " |-- Battery_V: decimal(10,2) (nullable = true)\n",
      " |-- AirTemp: decimal(10,2) (nullable = true)\n",
      " |-- RelHum: decimal(10,2) (nullable = true)\n",
      " |-- WS: decimal(10,3) (nullable = true)\n",
      " |-- WD: decimal(10,1) (nullable = true)\n",
      " |-- RAINt: decimal(10,3) (nullable = true)\n",
      " |-- RAINa: decimal(10,3) (nullable = true)\n",
      " |-- VWC: decimal(10,2) (nullable = true)\n",
      " |-- SoilTemp: decimal(10,2) (nullable = true)\n",
      " |-- SlrAvg: decimal(10,3) (nullable = true)\n",
      " |-- SlrKjTot: decimal(10,6) (nullable = true)\n",
      " |-- SlrWha: decimal(10,3) (nullable = true)\n",
      " |-- Slr_kJ_a: decimal(10,3) (nullable = true)\n",
      "\n"
     ]
    }
   ],
   "source": [
    "isro.printSchema()"
   ]
  },
  {
   "cell_type": "markdown",
   "metadata": {},
   "source": [
    "### Selecting only the days on which there was Rainfall :"
   ]
  },
  {
   "cell_type": "code",
   "execution_count": 110,
   "metadata": {},
   "outputs": [],
   "source": [
    "test = isro.filter((isro.RAINt>1)).select('RTIME','AirTemp','RelHum','RAINt')"
   ]
  },
  {
   "cell_type": "code",
   "execution_count": 111,
   "metadata": {},
   "outputs": [
    {
     "name": "stdout",
     "output_type": "stream",
     "text": [
      "+-------------------+-------+------+-----+\n",
      "|RTIME              |AirTemp|RelHum|RAINt|\n",
      "+-------------------+-------+------+-----+\n",
      "|2017-04-05 21:15:00|21.95  |81.30 |8.890|\n",
      "|2017-04-06 20:45:00|23.38  |81.20 |1.016|\n",
      "|2017-04-06 21:15:00|24.82  |78.76 |1.524|\n",
      "|2017-04-06 21:30:00|22.39  |91.50 |1.270|\n",
      "|2017-04-17 16:15:00|24.06  |66.82 |7.112|\n",
      "|2017-05-09 19:00:00|25.42  |73.37 |1.270|\n",
      "|2017-05-09 19:15:00|22.69  |90.90 |1.778|\n",
      "|2017-05-10 19:45:00|22.85  |85.80 |1.524|\n",
      "|2017-05-11 14:30:00|25.95  |80.70 |2.540|\n",
      "|2017-05-14 15:45:00|29.13  |73.50 |1.016|\n",
      "+-------------------+-------+------+-----+\n",
      "only showing top 10 rows\n",
      "\n"
     ]
    }
   ],
   "source": [
    "test.show(10,truncate=False)"
   ]
  },
  {
   "cell_type": "markdown",
   "metadata": {},
   "source": [
    "### Average temperature for the whole period :"
   ]
  },
  {
   "cell_type": "code",
   "execution_count": 112,
   "metadata": {},
   "outputs": [
    {
     "name": "stdout",
     "output_type": "stream",
     "text": [
      "+------------+\n",
      "|avg(AirTemp)|\n",
      "+------------+\n",
      "|   23.502284|\n",
      "+------------+\n",
      "\n",
      "Total time taken : 0.13900232315063477 ms\n"
     ]
    }
   ],
   "source": [
    "t=time()\n",
    "isro.agg({\"AirTemp\":\"avg\"}).show()\n",
    "print(\"Total time taken : \" + str(time()-t) + \" ms\")"
   ]
  },
  {
   "cell_type": "markdown",
   "metadata": {},
   "source": [
    "### Plotting a Time vs Temp Graph for Rainy days :"
   ]
  },
  {
   "cell_type": "code",
   "execution_count": 108,
   "metadata": {},
   "outputs": [],
   "source": [
    "import matplotlib.pyplot as plt"
   ]
  },
  {
   "cell_type": "code",
   "execution_count": 99,
   "metadata": {},
   "outputs": [],
   "source": [
    "rtime = test.select('RTIME').collect()"
   ]
  },
  {
   "cell_type": "code",
   "execution_count": 100,
   "metadata": {},
   "outputs": [],
   "source": [
    "temp = test.select('AirTemp').collect()"
   ]
  },
  {
   "cell_type": "code",
   "execution_count": 102,
   "metadata": {},
   "outputs": [
    {
     "data": {
      "text/plain": [
       "[<matplotlib.lines.Line2D at 0x1559e992bc8>]"
      ]
     },
     "execution_count": 102,
     "metadata": {},
     "output_type": "execute_result"
    },
    {
     "data": {
      "image/png": "[encoded data removed]",
      "text/plain": [
       "<Figure size 432x288 with 1 Axes>"
      ]
     },
     "metadata": {
      "needs_background": "light"
     },
     "output_type": "display_data"
    }
   ],
   "source": [
    "plt.plot(rtime,temp)"
   ]
  },
  {
   "cell_type": "code",
   "execution_count": null,
   "metadata": {},
   "outputs": [],
   "source": []
  }
 ],
 "metadata": {
  "kernelspec": {
   "display_name": "Python 3.7.5 64-bit",
   "language": "python",
   "name": "python37564bita61036862bae45bcafb550af5af65e79"
  },
  "language_info": {
   "codemirror_mode": {
    "name": "ipython",
    "version": 3
   },
   "file_extension": ".py",
   "mimetype": "text/x-python",
   "name": "python",
   "nbconvert_exporter": "python",
   "pygments_lexer": "ipython3",
   "version": "3.7.5"
  }
 },
 "nbformat": 4,
 "nbformat_minor": 2
}
